{
 "cells": [
  {
   "cell_type": "markdown",
   "metadata": {},
   "source": [
    "notes for installing - had to install AND upgrade moviepy to get it working\n",
    "1: install moviepy (with conda or pip)\n",
    "2: upgrade moviepy (pip install --upgrade moviepy) (I think the version on conda might be old)\n",
    "3: run the folloiwing commands in a python terminal\n",
    "import imageio\n",
    "imageio.plugins.ffmpeg.download()\n",
    "\n",
    "hopefully that should work, if not try upgrading moviepy again\n",
    "\n",
    "check by running import moviepy.editor\n",
    "\n",
    "\n",
    "also for OpenCV I needed to run in the terminal\n",
    "pip install opencv-contrib-python"
   ]
  },
  {
   "cell_type": "code",
   "execution_count": 1,
   "metadata": {},
   "outputs": [],
   "source": [
    "import numpy as np\n",
    "\n",
    "import matplotlib.pyplot as plt\n",
    "\n",
    "import tdt\n",
    "\n",
    "import moviepy.editor as mv\n",
    "\n",
    "import cv2 as cv"
   ]
  },
  {
   "cell_type": "code",
   "execution_count": 2,
   "metadata": {},
   "outputs": [],
   "source": [
    "folder='C:\\\\Users\\\\jmc010\\\\Dropbox\\\\Shared and resource folders\\\\Dan Covey\\\\'\n",
    "\n",
    "tank=folder+'SD6\\\\'\n",
    "videofile = tank+'DAN_RR-190827-090229_SD6_Cam1.avi'\n",
    "\n",
    "#tank=folder+'20Hz\\\\'\n",
    "#videofile = tank+'DAN_RR-190827-090229_20Hz_Cam1.avi'"
   ]
  },
  {
   "cell_type": "code",
   "execution_count": 3,
   "metadata": {},
   "outputs": [
    {
     "name": "stdout",
     "output_type": "stream",
     "text": [
      "Found Synapse note file: C:\\Users\\jmc010\\Dropbox\\Shared and resource folders\\Dan Covey\\SD6\\Notes.txt\n",
      "read from t=0s to t=418.45s\n"
     ]
    }
   ],
   "source": [
    "epocs = tdt.read_block(tank, evtype=['epocs']).epocs"
   ]
  },
  {
   "cell_type": "code",
   "execution_count": 4,
   "metadata": {},
   "outputs": [
    {
     "data": {
      "text/plain": [
       "Tick\t[struct]\n",
       "Cam1\t[struct]"
      ]
     },
     "execution_count": 4,
     "metadata": {},
     "output_type": "execute_result"
    }
   ],
   "source": [
    "epocs"
   ]
  },
  {
   "cell_type": "code",
   "execution_count": 5,
   "metadata": {},
   "outputs": [
    {
     "name": "stdout",
     "output_type": "stream",
     "text": [
      "There are 419 ticks and 7360 camera timestamps/frames\n"
     ]
    }
   ],
   "source": [
    "ticks = epocs['Tick']['onset']\n",
    "cam = epocs['Cam1']['onset']\n",
    "\n",
    "print('There are {} ticks and {} camera timestamps/frames'.format(len(ticks), len(cam)))"
   ]
  },
  {
   "cell_type": "code",
   "execution_count": 6,
   "metadata": {},
   "outputs": [
    {
     "data": {
      "image/png": "[encoded data removed]",
      "text/plain": [
       "<Figure size 432x288 with 2 Axes>"
      ]
     },
     "metadata": {
      "needs_background": "light"
     },
     "output_type": "display_data"
    }
   ],
   "source": [
    "itis = np.diff(ticks)\n",
    "ifis = np.diff(cam)\n",
    "\n",
    "f, ax = plt.subplots(ncols=2)\n",
    "\n",
    "ax[0].hist(itis)\n",
    "ax[1].hist(ifis, bins=100);"
   ]
  },
  {
   "cell_type": "code",
   "execution_count": 7,
   "metadata": {},
   "outputs": [
    {
     "name": "stdout",
     "output_type": "stream",
     "text": [
      "The fastest instantaneous frame rate is 32.991976351361664 Hz\n",
      "The slowest instantaneous frame rate is 8.87138898982682 Hz\n",
      "The mean frame rate is 17.59858268875199 Hz\n"
     ]
    }
   ],
   "source": [
    "print('The fastest instantaneous frame rate is {} Hz'.format(1/min(ifis)))\n",
    "print('The slowest instantaneous frame rate is {} Hz'.format(1/max(ifis)))\n",
    "print('The mean frame rate is {} Hz'.format(1/np.mean(ifis)))\n",
    "\n"
   ]
  },
  {
   "cell_type": "code",
   "execution_count": 8,
   "metadata": {},
   "outputs": [
    {
     "data": {
      "text/plain": [
       "(7400,)"
      ]
     },
     "execution_count": 8,
     "metadata": {},
     "output_type": "execute_result"
    }
   ],
   "source": [
    "import math\n",
    "R=100\n",
    "pad_size = math.ceil(float(ifis.size)/R)*R - ifis.size\n",
    "ifis_padded = np.append(ifis, np.zeros(pad_size)*np.NaN)\n",
    "ifis_padded.shape"
   ]
  },
  {
   "cell_type": "code",
   "execution_count": 9,
   "metadata": {},
   "outputs": [
    {
     "data": {
      "text/plain": [
       "[<matplotlib.lines.Line2D at 0x24cce9ae7f0>]"
      ]
     },
     "execution_count": 9,
     "metadata": {},
     "output_type": "execute_result"
    },
    {
     "data": {
      "image/png": "[encoded data removed]",
      "text/plain": [
       "<Figure size 432x288 with 1 Axes>"
      ]
     },
     "metadata": {
      "needs_background": "light"
     },
     "output_type": "display_data"
    }
   ],
   "source": [
    "binned = np.nanmean(ifis_padded.reshape(-1, R), axis=1)\n",
    "plt.plot(1/binned)"
   ]
  },
  {
   "cell_type": "code",
   "execution_count": 10,
   "metadata": {},
   "outputs": [],
   "source": [
    "Fs_cam = 10\n",
    "interval = 1/Fs_cam\n",
    "\n",
    "maxframe = round(max(cam), 1)\n",
    "minframe = round(min(cam), 1)"
   ]
  },
  {
   "cell_type": "code",
   "execution_count": 11,
   "metadata": {},
   "outputs": [
    {
     "name": "stdout",
     "output_type": "stream",
     "text": [
      "0.2 418.3\n"
     ]
    }
   ],
   "source": [
    "print(minframe, maxframe)"
   ]
  },
  {
   "cell_type": "code",
   "execution_count": 12,
   "metadata": {},
   "outputs": [],
   "source": [
    "frames_out = np.arange(minframe, maxframe, interval)"
   ]
  },
  {
   "cell_type": "code",
   "execution_count": 13,
   "metadata": {},
   "outputs": [
    {
     "data": {
      "text/plain": [
       "4181"
      ]
     },
     "execution_count": 13,
     "metadata": {},
     "output_type": "execute_result"
    }
   ],
   "source": [
    "len(frames_out)"
   ]
  },
  {
   "cell_type": "code",
   "execution_count": 14,
   "metadata": {},
   "outputs": [],
   "source": [
    "frame_index=[0]\n",
    "for frame in frames_out:\n",
    "    frame_index.append([i for i, f in enumerate(cam) if f > frame][0])"
   ]
  },
  {
   "cell_type": "code",
   "execution_count": 19,
   "metadata": {},
   "outputs": [],
   "source": [
    "cap = cv.VideoCapture(videofile)\n",
    "\n",
    "# Define the codec and create VideoWriter object\n",
    "fourcc = cv.VideoWriter_fourcc(*'XVID')\n",
    "out = cv.VideoWriter('output.avi', fourcc, 10.0, (800,  600))\n",
    "\n",
    "for frame in frame_index:\n",
    "    cap.set(cv.CAP_PROP_POS_FRAMES, frame)\n",
    "    ret, frame = cap.read()\n",
    "    if ret:\n",
    "        out.write(frame)\n",
    "\n",
    "cap.release()\n",
    "out.release()\n",
    "cv.destroyAllWindows()"
   ]
  },
  {
   "cell_type": "code",
   "execution_count": null,
   "metadata": {},
   "outputs": [],
   "source": [
    "cap = cv.VideoCapture(videofile)\n",
    "\n",
    "ret, frame = cap.read(800)\n",
    "cv.imwrite(\"frame.jpg\", frame)\n",
    "\n",
    "cap.release()\n",
    "cv.destroyAllWindows()"
   ]
  },
  {
   "cell_type": "code",
   "execution_count": null,
   "metadata": {},
   "outputs": [],
   "source": [
    "clip=cv.VideoCapture('output.avi')"
   ]
  },
  {
   "cell_type": "code",
   "execution_count": null,
   "metadata": {},
   "outputs": [],
   "source": [
    "dir(clip)"
   ]
  },
  {
   "cell_type": "code",
   "execution_count": null,
   "metadata": {},
   "outputs": [],
   "source": [
    "clip.get\n"
   ]
  },
  {
   "cell_type": "code",
   "execution_count": null,
   "metadata": {},
   "outputs": [],
   "source": [
    "clip.get(cv.CAP_PROP_FRAME_COUNT)"
   ]
  },
  {
   "cell_type": "code",
   "execution_count": null,
   "metadata": {},
   "outputs": [],
   "source": [
    "len(cam)\n"
   ]
  },
  {
   "cell_type": "code",
   "execution_count": null,
   "metadata": {},
   "outputs": [],
   "source": [
    "clip.release()"
   ]
  },
  {
   "cell_type": "code",
   "execution_count": 20,
   "metadata": {},
   "outputs": [
    {
     "data": {
      "text/plain": [
       "69.04414208"
      ]
     },
     "execution_count": 20,
     "metadata": {},
     "output_type": "execute_result"
    }
   ],
   "source": [
    "cam[1326]"
   ]
  },
  {
   "cell_type": "code",
   "execution_count": null,
   "metadata": {},
   "outputs": [],
   "source": []
  }
 ],
 "metadata": {
  "kernelspec": {
   "display_name": "Python 3",
   "language": "python",
   "name": "python3"
  },
  "language_info": {
   "codemirror_mode": {
    "name": "ipython",
    "version": 3
   },
   "file_extension": ".py",
   "mimetype": "text/x-python",
   "name": "python",
   "nbconvert_exporter": "python",
   "pygments_lexer": "ipython3",
   "version": "3.7.3"
  }
 },
 "nbformat": 4,
 "nbformat_minor": 2
}
